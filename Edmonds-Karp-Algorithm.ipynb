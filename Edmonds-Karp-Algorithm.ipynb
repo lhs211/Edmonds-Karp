{
 "cells": [
  {
   "cell_type": "markdown",
   "metadata": {},
   "source": [
    "## The Edmonds-Karp Algorithm"
   ]
  },
  {
   "cell_type": "code",
   "execution_count": 19,
   "metadata": {},
   "outputs": [],
   "source": [
    "def find_max_flow(capacity, source, sink):\n",
    "    \"\"\"\n",
    "    Parameters:\n",
    "        capacity ([[int]]) : A capacity graph\n",
    "        source (int) : The index of the source node\n",
    "        sink (int) : The index of the sink node\n",
    "    Returns:\n",
    "        The maximum flow value\n",
    "    \"\"\"\n",
    "    n = len(capacity)\n",
    "    residual = [[0] * n for i in range(n)]\n",
    "    path = breadth_first(capacity, residual, source, sink)\n",
    "\n",
    "    while path != None:\n",
    "        flow = min(capacity[u][v] - residual[u][v] for u,v in path)\n",
    "        for u,v in path:\n",
    "            residual[u][v] += flow\n",
    "            residual[v][u] -= flow\n",
    "        path = breadth_first(capacity, residual, source, sink)\n",
    "    return sum(residual[source][i] for i in range(n))\n",
    "\n",
    "def breadth_first(capacity, residual, source, sink):\n",
    "    \"\"\"\n",
    "    Parameters:\n",
    "        capacity ([[]]) : A capacity graph\n",
    "        residual ([[]]) : A graph of the residual capacities\n",
    "        source (int) : The index of the source node\n",
    "        sink (int) : The index of the sink node\n",
    "    Returns:\n",
    "        path ([(int, int)]) : The shortest path from source to sink\n",
    "    \"\"\"\n",
    "    queue = [source]\n",
    "    paths = {source:[]}\n",
    "    if source == sink:\n",
    "        return paths[source]\n",
    "    while queue: \n",
    "        u = queue.pop(0)\n",
    "        for v in range(len(capacity)):\n",
    "                if(capacity[u][v]-residual[u][v]>0) and v not in paths:\n",
    "                    paths[v] = paths[u]+[(u,v)]\n",
    "                    if v == sink:\n",
    "                        return paths[v]\n",
    "                    queue.append(v)\n",
    "    return None"
   ]
  },
  {
   "cell_type": "code",
   "execution_count": 13,
   "metadata": {},
   "outputs": [],
   "source": [
    "def display_result(capacity_graph):\n",
    "    \"\"\"\n",
    "    Parameters:\n",
    "        capacity_graph ([[]]) : The graph to find the max flow of\n",
    "    \"\"\"\n",
    "    max_flow = find_max_flow(capacity_graph_4, 0, len(capacity_graph)-1)\n",
    "    print(\"max_flow_value is: \", max_flow)\n",
    "    for row in capacity_graph:\n",
    "        print(row)"
   ]
  },
  {
   "cell_type": "code",
   "execution_count": 21,
   "metadata": {},
   "outputs": [
    {
     "name": "stdout",
     "output_type": "stream",
     "text": [
      "max_flow_value is:  4\n",
      "[0, 1, 1, 0]\n",
      "[0, 0, 2, 1]\n",
      "[0, 0, 0, 1]\n",
      "[0, 0, 0, 0]\n"
     ]
    }
   ],
   "source": [
    "capacity_graph_1 = [[0, 1, 1, 0],\n",
    "                    [0, 0, 2, 1],\n",
    "                    [0, 0, 0, 1],\n",
    "                    [0, 0, 0, 0]]\n",
    "display_result(capacity_graph_1)"
   ]
  },
  {
   "cell_type": "code",
   "execution_count": 15,
   "metadata": {},
   "outputs": [
    {
     "name": "stdout",
     "output_type": "stream",
     "text": [
      "max_flow_value is:  5\n",
      "[0, 10, 5, 0, 0, 0, 0, 0]\n",
      "[0, 0, 0, 8, 5, 0, 0, 0]\n",
      "[0, 0, 0, 0, 7, 0, 0, 0]\n",
      "[0, 0, 0, 0, 0, 7, 5, 0]\n",
      "[0, 0, 0, 0, 0, 0, 8, 0]\n",
      "[0, 0, 0, 0, 0, 0, 0, 5]\n",
      "[0, 0, 0, 0, 0, 0, 0, 10]\n"
     ]
    }
   ],
   "source": [
    "capacity_graph_2 = [[0, 10, 5, 0, 0, 0, 0, 0],\n",
    "                    [0, 0, 0, 8, 5, 0, 0, 0],\n",
    "                    [0, 0, 0, 0, 7, 0, 0, 0],\n",
    "                    [0, 0, 0, 0, 0, 7, 5, 0],\n",
    "                    [0, 0, 0, 0, 0, 0, 8, 0],\n",
    "                    [0, 0, 0, 0, 0, 0, 0, 5],\n",
    "                    [0, 0, 0, 0, 0, 0, 0, 10]]\n",
    "display_result(capacity_graph_2)"
   ]
  },
  {
   "cell_type": "code",
   "execution_count": 20,
   "metadata": {},
   "outputs": [
    {
     "name": "stdout",
     "output_type": "stream",
     "text": [
      "max_flow_value is:  5\n",
      "[0, 3, 0, 3, 0, 0, 0]\n",
      "[0, 0, 4, 0, 2, 0, 0]\n",
      "[3, 4, 0, 1, 2, 0, 0]\n",
      "[0, 0, 0, 0, 2, 6, 0]\n",
      "[0, 1, 0, 0, 0, 0, 1]\n",
      "[0, 0, 0, 0, 0, 0, 9]\n",
      "[0, 0, 0, 0, 0, 0, 0]\n"
     ]
    }
   ],
   "source": [
    "capacity_graph_3 = [[0, 3, 0, 3, 0, 0, 0],\n",
    "                    [0, 0, 4, 0, 2, 0, 0],\n",
    "                    [3, 4, 0, 1, 2, 0, 0],\n",
    "                    [0, 0, 0, 0, 2, 6, 0],\n",
    "                    [0, 1, 0, 0, 0, 0, 1],\n",
    "                    [0, 0, 0, 0, 0, 0, 9],\n",
    "                    [0, 0, 0, 0, 0, 0, 0]]\n",
    "display_result(capacity_graph_3)"
   ]
  }
 ],
 "metadata": {
  "kernelspec": {
   "display_name": "Python 3",
   "language": "python",
   "name": "python3"
  },
  "language_info": {
   "codemirror_mode": {
    "name": "ipython",
    "version": 3
   },
   "file_extension": ".py",
   "mimetype": "text/x-python",
   "name": "python",
   "nbconvert_exporter": "python",
   "pygments_lexer": "ipython3",
   "version": "3.7.3"
  }
 },
 "nbformat": 4,
 "nbformat_minor": 2
}
